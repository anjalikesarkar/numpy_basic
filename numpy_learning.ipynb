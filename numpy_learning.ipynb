{
 "cells": [
  {
   "cell_type": "code",
   "execution_count": 2,
   "id": "f5418608-7867-459e-8728-ad3b487c3dab",
   "metadata": {},
   "outputs": [],
   "source": [
    "import numpy as np\n",
    "import pandas as pd"
   ]
  },
  {
   "cell_type": "code",
   "execution_count": 7,
   "id": "75e394a4-c623-4a82-81ff-ef2c5a14d96d",
   "metadata": {},
   "outputs": [],
   "source": [
    "a1= np.array ([[1,2,3.3],[4,5,6.3]])"
   ]
  },
  {
   "cell_type": "code",
   "execution_count": 8,
   "id": "31ef8bce-5752-4748-bf3f-65104d367f30",
   "metadata": {},
   "outputs": [
    {
     "data": {
      "text/plain": [
       "array([[1. , 2. , 3.3],\n",
       "       [4. , 5. , 6.3]])"
      ]
     },
     "execution_count": 8,
     "metadata": {},
     "output_type": "execute_result"
    }
   ],
   "source": [
    "a1"
   ]
  },
  {
   "cell_type": "code",
   "execution_count": 9,
   "id": "f4ec08bd-9351-4bbc-93fd-22ec51ddc463",
   "metadata": {},
   "outputs": [
    {
     "data": {
      "text/plain": [
       "(2, 3)"
      ]
     },
     "execution_count": 9,
     "metadata": {},
     "output_type": "execute_result"
    }
   ],
   "source": [
    "a1.shape"
   ]
  },
  {
   "cell_type": "code",
   "execution_count": 10,
   "id": "97e98941-0ba9-40f8-9b22-003c2939aaff",
   "metadata": {},
   "outputs": [
    {
     "data": {
      "text/plain": [
       "dtype('float64')"
      ]
     },
     "execution_count": 10,
     "metadata": {},
     "output_type": "execute_result"
    }
   ],
   "source": [
    "a1.dtype"
   ]
  },
  {
   "cell_type": "code",
   "execution_count": 11,
   "id": "15bed1dc-b5fd-416d-a1e6-a3b3e43a18fb",
   "metadata": {},
   "outputs": [
    {
     "data": {
      "text/plain": [
       "2"
      ]
     },
     "execution_count": 11,
     "metadata": {},
     "output_type": "execute_result"
    }
   ],
   "source": [
    "a1.ndim"
   ]
  },
  {
   "cell_type": "code",
   "execution_count": 12,
   "id": "d001d1a1-6a18-40d6-b406-aa70187b5282",
   "metadata": {},
   "outputs": [
    {
     "data": {
      "text/plain": [
       "6"
      ]
     },
     "execution_count": 12,
     "metadata": {},
     "output_type": "execute_result"
    }
   ],
   "source": [
    "a1.size"
   ]
  },
  {
   "cell_type": "code",
   "execution_count": 14,
   "id": "b4924ddb-2ff7-4d49-b388-692b54d2c70e",
   "metadata": {},
   "outputs": [],
   "source": [
    "df = pd.DataFrame(a1)"
   ]
  },
  {
   "cell_type": "code",
   "execution_count": 15,
   "id": "2d22b11e-6a83-4beb-837b-8b3f44c73611",
   "metadata": {},
   "outputs": [
    {
     "data": {
      "text/html": [
       "<div>\n",
       "<style scoped>\n",
       "    .dataframe tbody tr th:only-of-type {\n",
       "        vertical-align: middle;\n",
       "    }\n",
       "\n",
       "    .dataframe tbody tr th {\n",
       "        vertical-align: top;\n",
       "    }\n",
       "\n",
       "    .dataframe thead th {\n",
       "        text-align: right;\n",
       "    }\n",
       "</style>\n",
       "<table border=\"1\" class=\"dataframe\">\n",
       "  <thead>\n",
       "    <tr style=\"text-align: right;\">\n",
       "      <th></th>\n",
       "      <th>0</th>\n",
       "      <th>1</th>\n",
       "      <th>2</th>\n",
       "    </tr>\n",
       "  </thead>\n",
       "  <tbody>\n",
       "    <tr>\n",
       "      <th>0</th>\n",
       "      <td>1.0</td>\n",
       "      <td>2.0</td>\n",
       "      <td>3.3</td>\n",
       "    </tr>\n",
       "    <tr>\n",
       "      <th>1</th>\n",
       "      <td>4.0</td>\n",
       "      <td>5.0</td>\n",
       "      <td>6.3</td>\n",
       "    </tr>\n",
       "  </tbody>\n",
       "</table>\n",
       "</div>"
      ],
      "text/plain": [
       "     0    1    2\n",
       "0  1.0  2.0  3.3\n",
       "1  4.0  5.0  6.3"
      ]
     },
     "execution_count": 15,
     "metadata": {},
     "output_type": "execute_result"
    }
   ],
   "source": [
    "df"
   ]
  },
  {
   "cell_type": "code",
   "execution_count": 3,
   "id": "e0a9ccb5-3252-426f-bf5e-250318f8672d",
   "metadata": {},
   "outputs": [],
   "source": [
    "r = np.random.rand(5)"
   ]
  },
  {
   "cell_type": "code",
   "execution_count": 4,
   "id": "4ff5a486-de10-4af3-8d46-9e21aea98964",
   "metadata": {},
   "outputs": [
    {
     "data": {
      "text/plain": [
       "array([0.748979  , 0.44300315, 0.38645301, 0.29956516, 0.18636579])"
      ]
     },
     "execution_count": 4,
     "metadata": {},
     "output_type": "execute_result"
    }
   ],
   "source": [
    "r"
   ]
  },
  {
   "cell_type": "code",
   "execution_count": 8,
   "id": "3e2abd9c-1e1e-4345-a254-ce6892278efe",
   "metadata": {},
   "outputs": [],
   "source": [
    "ran = np.random.rand(2,2,3)"
   ]
  },
  {
   "cell_type": "code",
   "execution_count": 9,
   "id": "9e8d79fd-1eda-409d-aa77-3fcae0274cc4",
   "metadata": {},
   "outputs": [
    {
     "data": {
      "text/plain": [
       "array([[[0.81087619, 0.29319649, 0.92650336],\n",
       "        [0.6594624 , 0.30594368, 0.37688779]],\n",
       "\n",
       "       [[0.02318572, 0.00743712, 0.86125989],\n",
       "        [0.56716764, 0.0910004 , 0.27666412]]])"
      ]
     },
     "execution_count": 9,
     "metadata": {},
     "output_type": "execute_result"
    }
   ],
   "source": [
    "ran"
   ]
  },
  {
   "cell_type": "code",
   "execution_count": 12,
   "id": "3dcea80c-127e-4f00-a5a6-017778d9f6a7",
   "metadata": {},
   "outputs": [
    {
     "data": {
      "text/plain": [
       "array([[0., 0.],\n",
       "       [0., 0.]])"
      ]
     },
     "execution_count": 12,
     "metadata": {},
     "output_type": "execute_result"
    }
   ],
   "source": [
    "zeroes = np.zeros((2,2))\n",
    "zeroes"
   ]
  },
  {
   "cell_type": "code",
   "execution_count": 15,
   "id": "5ea334ec-83d2-44c6-bc74-a2a0a65bf62b",
   "metadata": {},
   "outputs": [
    {
     "data": {
      "text/plain": [
       "array([[[5, 5],\n",
       "        [5, 5],\n",
       "        [5, 5]],\n",
       "\n",
       "       [[5, 5],\n",
       "        [5, 5],\n",
       "        [5, 5]],\n",
       "\n",
       "       [[5, 5],\n",
       "        [5, 5],\n",
       "        [5, 5]]])"
      ]
     },
     "execution_count": 15,
     "metadata": {},
     "output_type": "execute_result"
    }
   ],
   "source": [
    "full = np.full((3,3,2), 5)\n",
    "full"
   ]
  },
  {
   "cell_type": "code",
   "execution_count": 17,
   "id": "7d3b3688-8550-47a8-baa8-25bd5088a0da",
   "metadata": {},
   "outputs": [
    {
     "data": {
      "text/plain": [
       "array([[[1., 1.],\n",
       "        [1., 1.],\n",
       "        [1., 1.]],\n",
       "\n",
       "       [[1., 1.],\n",
       "        [1., 1.],\n",
       "        [1., 1.]]])"
      ]
     },
     "execution_count": 17,
     "metadata": {},
     "output_type": "execute_result"
    }
   ],
   "source": [
    "ones = np.ones((2,3,2))\n",
    "ones"
   ]
  },
  {
   "cell_type": "code",
   "execution_count": 20,
   "id": "6a74d6a7-7424-4b24-b9c2-81577f753085",
   "metadata": {},
   "outputs": [
    {
     "data": {
      "text/plain": [
       "array([0, 2, 4, 6, 8])"
      ]
     },
     "execution_count": 20,
     "metadata": {},
     "output_type": "execute_result"
    }
   ],
   "source": [
    "range_array = np.arange(0,10,2)\n",
    "range_array"
   ]
  },
  {
   "cell_type": "code",
   "execution_count": 22,
   "id": "b87f4537-4d3a-492c-baef-500dad3b8c85",
   "metadata": {},
   "outputs": [
    {
     "data": {
      "text/plain": [
       "array([3, 8])"
      ]
     },
     "execution_count": 22,
     "metadata": {},
     "output_type": "execute_result"
    }
   ],
   "source": [
    "rand_int = np.random.randint(1,10,2)\n",
    "rand_int"
   ]
  },
  {
   "cell_type": "code",
   "execution_count": 23,
   "id": "de29f9f2-9387-40e3-9b6b-189e2d5f0cc1",
   "metadata": {},
   "outputs": [
    {
     "data": {
      "text/plain": [
       "array([[5, 1],\n",
       "       [6, 3],\n",
       "       [6, 8]])"
      ]
     },
     "execution_count": 23,
     "metadata": {},
     "output_type": "execute_result"
    }
   ],
   "source": [
    "rand_int1 = np.random.randint(1,10, size=(3,2))\n",
    "rand_int1"
   ]
  },
  {
   "cell_type": "code",
   "execution_count": 36,
   "id": "661afda7-0287-4f14-badd-cf0da841361b",
   "metadata": {},
   "outputs": [
    {
     "data": {
      "text/plain": [
       "array([[8, 8, 6, 2],\n",
       "       [8, 7, 2, 1],\n",
       "       [5, 4, 4, 5],\n",
       "       [7, 3, 6, 4]])"
      ]
     },
     "execution_count": 36,
     "metadata": {},
     "output_type": "execute_result"
    }
   ],
   "source": [
    "np.random.seed(2)\n",
    "rand_int2=np.random.randint(10, size=(4,4))\n",
    "rand_int2"
   ]
  },
  {
   "cell_type": "code",
   "execution_count": 37,
   "id": "aa79e997-92d8-487b-a4c6-aef50246a7a0",
   "metadata": {},
   "outputs": [
    {
     "data": {
      "text/plain": [
       "array([1, 2, 3, 4, 5, 6, 7, 8])"
      ]
     },
     "execution_count": 37,
     "metadata": {},
     "output_type": "execute_result"
    }
   ],
   "source": [
    "np.unique(rand_int2)"
   ]
  },
  {
   "cell_type": "code",
   "execution_count": 38,
   "id": "3bcc94fb-ebdf-41c9-87cd-87f0ba5fc070",
   "metadata": {},
   "outputs": [
    {
     "data": {
      "text/plain": [
       "8"
      ]
     },
     "execution_count": 38,
     "metadata": {},
     "output_type": "execute_result"
    }
   ],
   "source": [
    "rand_int2[1,0]"
   ]
  },
  {
   "cell_type": "code",
   "execution_count": 39,
   "id": "ae0365cc-3590-4542-afe2-ce2c8d803695",
   "metadata": {},
   "outputs": [
    {
     "data": {
      "text/plain": [
       "array([[8, 8, 6, 2],\n",
       "       [8, 7, 2, 1]])"
      ]
     },
     "execution_count": 39,
     "metadata": {},
     "output_type": "execute_result"
    }
   ],
   "source": [
    "rand_int2[:2]"
   ]
  },
  {
   "cell_type": "code",
   "execution_count": 40,
   "id": "f2bddef4-6c53-43c3-9254-252a6b733848",
   "metadata": {},
   "outputs": [
    {
     "data": {
      "text/plain": [
       "array([[8],\n",
       "       [8]])"
      ]
     },
     "execution_count": 40,
     "metadata": {},
     "output_type": "execute_result"
    }
   ],
   "source": [
    "rand_int2[:2,:1]"
   ]
  },
  {
   "cell_type": "code",
   "execution_count": 42,
   "id": "61dff802-8a6d-4baf-b3d7-ba7fc0274dd2",
   "metadata": {},
   "outputs": [],
   "source": [
    "arr1= np.array([2,4,6])\n",
    "arr2= np.array([3,6,9])"
   ]
  },
  {
   "cell_type": "code",
   "execution_count": 43,
   "id": "0bf3b2fa-6eb7-4392-9e34-a391d596820e",
   "metadata": {},
   "outputs": [
    {
     "data": {
      "text/plain": [
       "array([2, 4, 6])"
      ]
     },
     "execution_count": 43,
     "metadata": {},
     "output_type": "execute_result"
    }
   ],
   "source": [
    "arr1"
   ]
  },
  {
   "cell_type": "code",
   "execution_count": 44,
   "id": "5057b665-1819-40d9-bcbe-fc625d0e1688",
   "metadata": {},
   "outputs": [
    {
     "data": {
      "text/plain": [
       "array([3, 6, 9])"
      ]
     },
     "execution_count": 44,
     "metadata": {},
     "output_type": "execute_result"
    }
   ],
   "source": [
    "arr2"
   ]
  },
  {
   "cell_type": "code",
   "execution_count": 54,
   "id": "b4360377-4d3d-477a-ac04-b28cefe57e01",
   "metadata": {},
   "outputs": [
    {
     "data": {
      "text/plain": [
       "array([ 5, 10, 15])"
      ]
     },
     "execution_count": 54,
     "metadata": {},
     "output_type": "execute_result"
    }
   ],
   "source": [
    "#addition with add\n",
    "add_arr = np.add(arr1,arr2)\n",
    "add_arr"
   ]
  },
  {
   "cell_type": "code",
   "execution_count": 55,
   "id": "151153e0-5765-4e18-a347-e704a0005131",
   "metadata": {},
   "outputs": [
    {
     "data": {
      "text/plain": [
       "array([ 5, 10, 15])"
      ]
     },
     "execution_count": 55,
     "metadata": {},
     "output_type": "execute_result"
    }
   ],
   "source": [
    "#addition with + sign\n",
    "addition_arr = arr1+arr2\n",
    "addition_arr"
   ]
  },
  {
   "cell_type": "code",
   "execution_count": 56,
   "id": "1eb13e17-8533-4135-ba5b-f4f99c4c9d2e",
   "metadata": {},
   "outputs": [
    {
     "data": {
      "text/plain": [
       "30"
      ]
     },
     "execution_count": 56,
     "metadata": {},
     "output_type": "execute_result"
    }
   ],
   "source": [
    "#summation \n",
    "sum_arr = np.sum([arr1,arr2])\n",
    "sum_arr"
   ]
  },
  {
   "cell_type": "code",
   "execution_count": 57,
   "id": "5ab066c6-32a0-4dd6-adae-fad76aaf15a2",
   "metadata": {},
   "outputs": [
    {
     "data": {
      "text/plain": [
       "array([12, 18])"
      ]
     },
     "execution_count": 57,
     "metadata": {},
     "output_type": "execute_result"
    }
   ],
   "source": [
    "#summation over axis 1(rowwise or self add)\n",
    "sum_arr_axis1 = np.sum([arr1,arr2], axis=1)\n",
    "sum_arr_axis1"
   ]
  },
  {
   "cell_type": "code",
   "execution_count": 58,
   "id": "b93f4691-4b13-47a2-96f5-fc5b6a49e48b",
   "metadata": {},
   "outputs": [
    {
     "data": {
      "text/plain": [
       "array([ 5, 10, 15])"
      ]
     },
     "execution_count": 58,
     "metadata": {},
     "output_type": "execute_result"
    }
   ],
   "source": [
    "#summation over axis 0 (columnwise or like add)\n",
    "sum_arr_axis0 = np.sum([arr1,arr2], axis=0)\n",
    "sum_arr_axis0"
   ]
  },
  {
   "cell_type": "code",
   "execution_count": 61,
   "id": "75a95080-0f55-40a0-826c-639a92ebd27a",
   "metadata": {},
   "outputs": [
    {
     "data": {
      "text/plain": [
       "array([-1, -2, -3])"
      ]
     },
     "execution_count": 61,
     "metadata": {},
     "output_type": "execute_result"
    }
   ],
   "source": [
    "# subtraction with subtract\n",
    "sub_arr = np.subtract(arr1,arr2)\n",
    "sub_arr"
   ]
  },
  {
   "cell_type": "code",
   "execution_count": 62,
   "id": "d7a3b6a9-a80f-4e75-859f-3b3976f375dd",
   "metadata": {},
   "outputs": [
    {
     "data": {
      "text/plain": [
       "array([1, 2, 3])"
      ]
     },
     "execution_count": 62,
     "metadata": {},
     "output_type": "execute_result"
    }
   ],
   "source": [
    "#subtraction by - sign\n",
    "subtract_arr = arr2 - arr1\n",
    "subtract_arr"
   ]
  },
  {
   "cell_type": "code",
   "execution_count": 64,
   "id": "2b73c463-b679-4908-b2b4-6d10b287aa84",
   "metadata": {},
   "outputs": [
    {
     "data": {
      "text/plain": [
       "array([2, 4, 6])"
      ]
     },
     "execution_count": 64,
     "metadata": {},
     "output_type": "execute_result"
    }
   ],
   "source": [
    "arr1"
   ]
  },
  {
   "cell_type": "code",
   "execution_count": 63,
   "id": "5906a68a-1e61-4718-b441-2cfd95e7de4d",
   "metadata": {},
   "outputs": [
    {
     "data": {
      "text/plain": [
       "array([2, 2])"
      ]
     },
     "execution_count": 63,
     "metadata": {},
     "output_type": "execute_result"
    }
   ],
   "source": [
    "# discrite difference\n",
    "diff = np.diff(arr1)\n",
    "diff"
   ]
  },
  {
   "cell_type": "code",
   "execution_count": 74,
   "id": "3dd34688-8c20-41a5-a97b-ca212c937eac",
   "metadata": {},
   "outputs": [
    {
     "data": {
      "text/plain": [
       "array([[7, 2, 3]])"
      ]
     },
     "execution_count": 74,
     "metadata": {},
     "output_type": "execute_result"
    }
   ],
   "source": [
    "#random integer array creation with randint \n",
    "#seed used to keep randint constant\n",
    "np.random.seed(12)\n",
    "arr3 = np.random.randint(1,10,size=(1,3))\n",
    "arr3"
   ]
  },
  {
   "cell_type": "code",
   "execution_count": 73,
   "id": "fe745ffc-a515-488f-b6cf-b9be9bac587c",
   "metadata": {},
   "outputs": [
    {
     "data": {
      "text/plain": [
       "array([[6]])"
      ]
     },
     "execution_count": 73,
     "metadata": {},
     "output_type": "execute_result"
    }
   ],
   "source": [
    "# discrite differnece with n \n",
    "diff = np.diff(arr3, n=2)\n",
    "diff"
   ]
  },
  {
   "cell_type": "code",
   "execution_count": 75,
   "id": "2ec1381e-0c42-40ec-8e0b-32d84c03e7ec",
   "metadata": {},
   "outputs": [
    {
     "data": {
      "text/plain": [
       "array([ 6, 24, 54])"
      ]
     },
     "execution_count": 75,
     "metadata": {},
     "output_type": "execute_result"
    }
   ],
   "source": [
    "#multiplication with multiply\n",
    "mul_arr = np.multiply(arr1,arr2)\n",
    "mul_arr"
   ]
  },
  {
   "cell_type": "code",
   "execution_count": 81,
   "id": "2e04d172-dec4-4382-8281-74b8dce3b76f",
   "metadata": {},
   "outputs": [
    {
     "data": {
      "text/plain": [
       "array([ 6, 24, 54])"
      ]
     },
     "execution_count": 81,
     "metadata": {},
     "output_type": "execute_result"
    }
   ],
   "source": [
    "# multiplication with * sign\n",
    "mult_arr = arr1*arr2\n",
    "mult_arr"
   ]
  },
  {
   "cell_type": "code",
   "execution_count": 84,
   "id": "1341791e-b1d5-42b9-9801-7f4841ace3dc",
   "metadata": {},
   "outputs": [
    {
     "data": {
      "text/plain": [
       "7776"
      ]
     },
     "execution_count": 84,
     "metadata": {},
     "output_type": "execute_result"
    }
   ],
   "source": [
    "#Product\n",
    "prod = np.prod(arr1)\n",
    "product = np.prod([arr1,arr2])\n",
    "prod\n",
    "product"
   ]
  },
  {
   "cell_type": "code",
   "execution_count": 94,
   "id": "18a8dd69-1432-491d-b30d-ae4dec083fb0",
   "metadata": {},
   "outputs": [
    {
     "data": {
      "text/plain": [
       "array([ 8, 16, 24, 32, 40])"
      ]
     },
     "execution_count": 94,
     "metadata": {},
     "output_type": "execute_result"
    }
   ],
   "source": [
    "arr4 = np.array([8,16,24,32,40])\n",
    "arr5 = np.array([2,3,4,5,6])\n",
    "arr4"
   ]
  },
  {
   "cell_type": "code",
   "execution_count": 95,
   "id": "3117191c-da9b-4ef6-a28b-f8f040f6fb67",
   "metadata": {},
   "outputs": [
    {
     "data": {
      "text/plain": [
       "array([2, 3, 4, 5, 6])"
      ]
     },
     "execution_count": 95,
     "metadata": {},
     "output_type": "execute_result"
    }
   ],
   "source": [
    "arr5"
   ]
  },
  {
   "cell_type": "code",
   "execution_count": 96,
   "id": "5355845f-7e04-4e19-91f8-985e31cb1094",
   "metadata": {},
   "outputs": [
    {
     "data": {
      "text/plain": [
       "array([4.        , 5.33333333, 6.        , 6.4       , 6.66666667])"
      ]
     },
     "execution_count": 96,
     "metadata": {},
     "output_type": "execute_result"
    }
   ],
   "source": [
    "#Divide\n",
    "div =np.divide(arr4,arr5)\n",
    "div"
   ]
  },
  {
   "cell_type": "code",
   "execution_count": 97,
   "id": "0af53423-ebd7-4c49-8bed-bc2ef0846a03",
   "metadata": {},
   "outputs": [
    {
     "data": {
      "text/plain": [
       "array([0, 1, 0, 2, 4])"
      ]
     },
     "execution_count": 97,
     "metadata": {},
     "output_type": "execute_result"
    }
   ],
   "source": [
    "#Remainder by mod\n",
    "mod = np.mod(arr4,arr5)\n",
    "mod"
   ]
  },
  {
   "cell_type": "code",
   "execution_count": 98,
   "id": "953ad07d-6dec-4eec-adc0-406ec87471ce",
   "metadata": {},
   "outputs": [
    {
     "data": {
      "text/plain": [
       "array([0, 1, 0, 2, 4])"
      ]
     },
     "execution_count": 98,
     "metadata": {},
     "output_type": "execute_result"
    }
   ],
   "source": [
    "# Remainder by remainder\n",
    "remain = np.remainder(arr4,arr5)\n",
    "remain"
   ]
  },
  {
   "cell_type": "code",
   "execution_count": 99,
   "id": "1791fa8a-f7b2-4e32-83d8-632c95c867ec",
   "metadata": {},
   "outputs": [
    {
     "data": {
      "text/plain": [
       "(array([4, 5, 6, 6, 6]), array([0, 1, 0, 2, 4]))"
      ]
     },
     "execution_count": 99,
     "metadata": {},
     "output_type": "execute_result"
    }
   ],
   "source": [
    "#Quotient and mod \n",
    "qm = np.divmod(arr4,arr5)\n",
    "qm"
   ]
  },
  {
   "cell_type": "code",
   "execution_count": 101,
   "id": "eb525322-9ca2-4856-96e1-d7c89f60ce55",
   "metadata": {},
   "outputs": [
    {
     "data": {
      "text/plain": [
       "(array([2, 4, 6]), array([3, 6, 9]))"
      ]
     },
     "execution_count": 101,
     "metadata": {},
     "output_type": "execute_result"
    }
   ],
   "source": [
    "arr1,arr2"
   ]
  },
  {
   "cell_type": "code",
   "execution_count": 103,
   "id": "c0a26a40-3b65-4dd7-8d79-3c675e2ef600",
   "metadata": {},
   "outputs": [
    {
     "data": {
      "text/plain": [
       "array([       8,     4096, 10077696])"
      ]
     },
     "execution_count": 103,
     "metadata": {},
     "output_type": "execute_result"
    }
   ],
   "source": [
    "# Power \n",
    "power = np.power(arr1,arr2)\n",
    "power"
   ]
  },
  {
   "cell_type": "code",
   "execution_count": 104,
   "id": "7f7f5b58-6d59-4dc9-b7f0-167939f18bf2",
   "metadata": {},
   "outputs": [
    {
     "data": {
      "text/plain": [
       "array([8, 5, 7, 9, 2, 0, 1])"
      ]
     },
     "execution_count": 104,
     "metadata": {},
     "output_type": "execute_result"
    }
   ],
   "source": [
    "# Absolute\n",
    "arr7 = np.array([-8,-5,7,9,-2,0,-1])\n",
    "abs = np.absolute(arr7)\n",
    "abs"
   ]
  }
 ],
 "metadata": {
  "kernelspec": {
   "display_name": "Python 3 (ipykernel)",
   "language": "python",
   "name": "python3"
  },
  "language_info": {
   "codemirror_mode": {
    "name": "ipython",
    "version": 3
   },
   "file_extension": ".py",
   "mimetype": "text/x-python",
   "name": "python",
   "nbconvert_exporter": "python",
   "pygments_lexer": "ipython3",
   "version": "3.9.21"
  }
 },
 "nbformat": 4,
 "nbformat_minor": 5
}
